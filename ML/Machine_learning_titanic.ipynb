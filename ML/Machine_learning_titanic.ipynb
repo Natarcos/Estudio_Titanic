{
 "cells": [
  {
   "cell_type": "markdown",
   "metadata": {},
   "source": [
    "Todavía no lo hemos hecho, pero es para que sepamos el orden normal y adecuado de un trabajo de este tripo. "
   ]
  }
 ],
 "metadata": {
  "kernelspec": {
   "display_name": "entorno_streamlit",
   "language": "python",
   "name": "python3"
  },
  "language_info": {
   "name": "python",
   "version": "3.10.11"
  }
 },
 "nbformat": 4,
 "nbformat_minor": 2
}
